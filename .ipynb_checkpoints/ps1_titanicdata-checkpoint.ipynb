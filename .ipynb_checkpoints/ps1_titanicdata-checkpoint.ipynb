{
 "cells": [
  {
   "cell_type": "code",
   "execution_count": 23,
   "metadata": {
    "collapsed": true
   },
   "outputs": [],
   "source": [
    "import numpy as np\n",
    "import pandas as pd\n",
    "import statsmodels.api as sm\n",
    "\n",
    "def simple_heuristic(file_path):\n",
    "    predictions = {}\n",
    "    df = pandas.read_csv(file_path)\n",
    "    for passenger_index, passenger in df.iterrows():\n",
    "        passenger_id = passenger['PassengerId']\n",
    "        if passenger['Sex'] == 'female':\n",
    "            predictions[passenger_id] = 1\n",
    "        else:\n",
    "             predictions[passenger_id] = 0   \n",
    "    return predictions\n",
    "\n",
    "def complex_heuristic(file_path):\n",
    "    predictions = {}\n",
    "    df = pandas.read_csv(file_path)\n",
    "    for passenger_index, passenger in df.iterrows():\n",
    "        passenger_id = passenger['PassengerId']\n",
    "        if passenger['Sex'] == 'female' or (passenger['Pclass']==1 and passenger['Age'] < 18):\n",
    "            predictions[passenger_id] = 1\n",
    "        else:\n",
    "            predictions[passenger_id] = 0\n",
    "    return predictions\n",
    "\n",
    "def custom_heuristic(file_path):\n",
    "    predictions = {}\n",
    "    df = pandas.read_csv(file_path)\n",
    "    for passenger_index, passenger in df.iterrows():\n",
    "        passenger_id = passenger['PassengerId']\n",
    "        \n",
    "        predictions[passenger_id] = 0 # set all to zero initially to set keys\n",
    "        \n",
    "        if passenger['Sex'] == 'female':\n",
    "            if passenger['Pclass'] <= 2: \n",
    "                predictions[passenger_id] = 1\n",
    "            elif passenger['Pclass'] == 3 and passenger['Age'] < 30: \n",
    "                predictions[passenger_id] = 1 \n",
    "        if passenger['Sex'] == 'male':\n",
    "            if passenger['Age'] < 18 and passenger['Pclass'] == 1 :\n",
    "                predictions[passenger_id] = 1\n",
    "        if passenger['Age'] < 18 and passenger['Pclass'] == 1 :\n",
    "                predictions[passenger_id] = 1\n",
    "        if passenger['Age'] < 16 and passenger['Pclass'] == 2 :\n",
    "                predictions[passenger_id] = 1\n",
    "        if passenger['Age'] < 1 and passenger['Pclass'] == 3 :\n",
    "                predictions[passenger_id] = 1\n",
    "        if passenger['Parch'] > 5:\n",
    "            predictions[passenger_id] = 1\n",
    "            \n",
    "    return predictions\n"
   ]
  },
  {
   "cell_type": "markdown",
   "metadata": {},
   "source": [
    "## Testing"
   ]
  },
  {
   "cell_type": "code",
   "execution_count": 24,
   "metadata": {
    "collapsed": false
   },
   "outputs": [],
   "source": [
    "file_path = \"/Users/aguarini/Desktop/intro_datascience/programs/data/titanic_data_2.csv\"\n",
    "pred = simple_heuristic(file_path)  # Accuracy rate: 78.68%\n",
    "pred = complex_heuristic(file_path) # Accuracy rate: 79.12%\n",
    "pred = custom_heuristic(file_path)  # Accuracy rate: 80.36%"
   ]
  }
 ],
 "metadata": {
  "kernelspec": {
   "display_name": "Python 2",
   "language": "python",
   "name": "python2"
  },
  "language_info": {
   "codemirror_mode": {
    "name": "ipython",
    "version": 2
   },
   "file_extension": ".py",
   "mimetype": "text/x-python",
   "name": "python",
   "nbconvert_exporter": "python",
   "pygments_lexer": "ipython2",
   "version": "2.7.11"
  }
 },
 "nbformat": 4,
 "nbformat_minor": 0
}
